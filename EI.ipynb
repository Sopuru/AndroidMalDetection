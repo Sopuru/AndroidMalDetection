{
  "nbformat": 4,
  "nbformat_minor": 0,
  "metadata": {
    "colab": {
      "name": "EI.ipynb",
      "provenance": [],
      "collapsed_sections": [],
      "authorship_tag": "ABX9TyPmfdfhlrcrSZtmRObaG19h",
      "include_colab_link": true
    },
    "kernelspec": {
      "name": "python3",
      "display_name": "Python 3"
    },
    "language_info": {
      "name": "python"
    }
  },
  "cells": [
    {
      "cell_type": "markdown",
      "metadata": {
        "id": "view-in-github",
        "colab_type": "text"
      },
      "source": [
        "<a href=\"https://colab.research.google.com/github/Sopuru/AndroidMalDetection/blob/master/EI.ipynb\" target=\"_parent\"><img src=\"https://colab.research.google.com/assets/colab-badge.svg\" alt=\"Open In Colab\"/></a>"
      ]
    },
    {
      "cell_type": "code",
      "metadata": {
        "id": "jQCEiWvbLdXs"
      },
      "source": [
        "### Importing all neccacery library to our project ####\n",
        "import random  # lib to create random samples \n",
        "import pandas as pd ## lib to represent the data \n",
        "import seaborn as sns ## lib to plotting the correlation matrix\n",
        "import numpy as np ### lib for operation on the dataset \n",
        "import matplotlib.pyplot as plt ### lib to plotting and visualizing the dataset \n",
        "from sklearn.ensemble import RandomForestRegressor,RandomForestClassifier  ## machine learning lib\n",
        "from sklearn.model_selection import train_test_split,cross_val_score, cross_val_predict  ## machine learning lib\n",
        "from sklearn import svm ## machine learning lib\n",
        "from sklearn.linear_model import Ridge,LinearRegression,LogisticRegression,ElasticNet, Lasso ## machine learning lib\n",
        "from sklearn.metrics import accuracy_score,mean_squared_error,recall_score,confusion_matrix,f1_score,roc_curve, auc ## machine learning lib\n"
      ],
      "execution_count": null,
      "outputs": []
    },
    {
      "cell_type": "code",
      "metadata": {
        "id": "faVrIVzPLjZi"
      },
      "source": [
        "## The number of samples for our dataset \n",
        "num_of_smaples = 800 \n",
        "####################################################### INPUT FACTORS ##############################################################\n",
        "#[1] ############ External ICT #####################\n",
        "G3_speed = [random.randint(0,100)  for i in range(0,num_of_smaples)] ## 3G internet speed\n",
        "G4_speed = [random.randint(0,100)  for i in range(0,num_of_smaples)] ## 4G internet speed\n",
        "G5_speed = [random.randint(0,100)  for i in range(0,num_of_smaples)] ## 5G internet speed\n",
        "############ Customer needs Demands ################\n",
        "#Customer need represented as precentage between 0 and 100 high values refer to the high need \n",
        "customer_need =  [random.randint(0,100)  for i in range(0,num_of_smaples)]  \n",
        "#Customer need represented as precentage between 0 and 100 high values refer to the high want \n",
        "customer_want =  [random.randint(0,100)  for i in range(0,num_of_smaples)] \n",
        "#Customer demand represented as precentage between 0 and 100 high values refer to the high demand \n",
        "customer_demand =[random.randint(0,100)  for i in range(0,num_of_smaples)] \n",
        "\n",
        "#[2] ########### Economic growth #####################\n",
        "'''\n",
        "we got this attribuits for the economic growth based on the studies from the article in this URL\n",
        "https://www.intelligenteconomist.com/economic-growth/ \n",
        "'''\n",
        "#represented split in to five region 0 -> water , 1 -> forest -> 2 , natural gas -> 3 ,  oil -> 4\n",
        "Natural_resource =[random.randint(0,3)  for i in range(0,num_of_smaples)]### water, forests , natural gas , oil ==> four categories\n",
        "#Technology represented as precentage between 0 and 100 high values refer to the high technology level in the country \n",
        "Technology = [random.randint(0,100)  for i in range(0,num_of_smaples)]\n",
        "#Population represented as precentage between 0 and 100 high values refer to the high population level in the country \n",
        "Population =[random.randint(0,100)  for i in range(0,num_of_smaples)] ### population for each country \n",
        "\n",
        "#[3] ########## Technology Change #######################\n",
        "#technology_change represent as precentage between 0 and 100 high values refer to the high chance to the country to change technology  \n",
        "technology_change=[random.randint(0,100)  for i in range(0,num_of_smaples)]\n",
        "\n",
        "#[4] ########## exchange rate stability ##################\n",
        "'''\n",
        "we got this attribuits for the exchange rate stability based on the studies from the article in this URL\n",
        "https://canamcurrencyexchange.com/9-factors-that-influence-currency-exchange-rates/\n",
        "'''\n",
        "#Economic_health represented as precentage between 0 and 100 high values refer to the high Economic_health level in the country \n",
        "Economic_health =[random.randint(0,100)  for i in range(0,num_of_smaples)]\n",
        "#Public_Debt represented as precentage between 0 and 100 high values refer to the high Public_Debt level in the country \n",
        "Public_Debt=[random.randint(0,100)  for i in range(0,num_of_smaples)]\n",
        "#Political_Stability represented as precentage between 0 and 100 high values refer to the high Political_Stability level in the country \n",
        "Political_Stability=[random.randint(0,100)  for i in range(0,num_of_smaples)]\n",
        "\n",
        "#[5] ########## Social Factors ##################\n",
        "'''\n",
        "we got this attribuits for Social Factors based on the studies from the article in this URL\n",
        "https://www.nap.edu/read/13497/chapter/11#168\n",
        "'''\n",
        "#Income_Inequality represented as precentage between 0 and 100 high values refer to the high Income_Inequality level in the country \n",
        "Income_Inequality=[random.randint(0,100)  for i in range(0,num_of_smaples)]\n",
        "#education represented as precentage between 0 and 100 high values refer to the high education level in the country \n",
        "education=[random.randint(0,100)  for i in range(0,num_of_smaples)]\n",
        "#Migration represented as precentage between 0 and 100 high values refer to the high Migration level in the country \n",
        "Migration=[random.randint(0,100)  for i in range(0,num_of_smaples)]\n",
        "\n",
        "\n",
        "#[6] ################### Machine Breakdown ################################\n",
        "'''\n",
        "we got this attribuits for the Machine Breakdown based on the studies from the article in this URL\n",
        "https://www.farmprogress.com/planters/10-biggest-causes-machinery-breakdowns-and-how-prevent-them\n",
        "'''\n",
        "#Migration represented as precentage between 0 and 100 high values refer to the high Overrunning machines level\n",
        "Overrunning_machines = [random.randint(0,100)  for i in range(0,num_of_smaples)]\n",
        "#Poor electrical connections represented as precentage between 0 and 100 high values refer to the high Poor electrical connections  \n",
        "Poor_electrical_connections =[random.randint(0,100)  for i in range(0,num_of_smaples)]\n",
        "#Improper_storage represented as precentage between 0 and 100 high values refer to the high Improper_storage level  \n",
        "Improper_storage=[random.randint(0,100)  for i in range(0,num_of_smaples)]\n",
        "\n",
        "#[7] #################  Governoment Stability #######################\n",
        "#Governoment Stability represented as precentage between 0 and 100 high values refer to the high Governoment Stability level\n",
        "Governoment_Stability =[random.randint(0,100)  for i in range(0,num_of_smaples)]\n",
        "\n",
        "\n",
        "#[8] #################  Internal Stuff Knowledge #######################\n",
        "#Internal_stuff_knowledge Stability represented as precentage between 0 and 100 high values refer to the high Internal_stuff_knowledge  level\n",
        "Internal_stuff_knowledge =[random.randint(0,100)  for i in range(0,num_of_smaples)]"
      ],
      "execution_count": null,
      "outputs": []
    },
    {
      "cell_type": "code",
      "metadata": {
        "id": "tgGI81hcLorW"
      },
      "source": [
        "###################################### OUTPUT FACTORS ##################################################\n",
        "'''\n",
        "each output factor has 5 levels represented as \n",
        "0 -> bad\n",
        "1 -> medium \n",
        "2 -> good\n",
        "3 -> very good \n",
        "4 -> excellent \n",
        "'''\n",
        "### SC PERFORMANCE ###\n",
        "SC_performance =[random.randint(0,5)  for i in range(0,num_of_smaples)]\n",
        "### Customer_Satisfication ###\n",
        "Customer_staisfication = [random.randint(0,5)  for i in range(0,num_of_smaples)]\n",
        "### Finance_Performance ###\n",
        "Finance_performance = [random.randint(0,5)  for i in range(0,num_of_smaples)]\n",
        "### Innovation and Growth ###\n",
        "Innovation_growth = [random.randint(0,5)  for i in range(0,num_of_smaples)]\n",
        "### Business Management ###\n",
        "Bussinece_management =[random.randint(0,5)  for i in range(0,num_of_smaples)]"
      ],
      "execution_count": null,
      "outputs": []
    },
    {
      "cell_type": "code",
      "metadata": {
        "id": "2G-X0tknLswi"
      },
      "source": [
        "#### Convert All list to Pandas Frame ####\n",
        "'''\n",
        "in order to represent our data and train the machine learning models we need to convert this raw data to the dataFrame format to be able \n",
        "make all operation and process.\n",
        "our data saved in list format so we need to convert it to dictionary format then to DataFrame \n",
        "*********************************************************\n",
        "List Format --> Dicitionary Format --> DataFrame Format\n",
        "*********************************************************\n",
        "'''\n",
        "\n",
        "## Here we convert list to dictionary format\n",
        "dic = {'G3_speed': G3_speed , 'G4_speed':G4_speed , 'G5_speed':G5_speed , 'customer_need':customer_need, 'customer_want':customer_want, 'customer_demand':customer_demand,\n",
        "        'Natural_resource':Natural_resource, 'Technology':Technology, 'Population':Population,'technology_change':technology_change, 'Economic_health':Economic_health,\n",
        "       'Public_Debt':Public_Debt, 'Political_Stability':Political_Stability, 'Income_Inequality':Income_Inequality, 'education':education , 'Migration':Migration,\n",
        "       'Overrunning_machines':Overrunning_machines, 'Poor_electrical_connections':Poor_electrical_connections, 'Improper_storage':Improper_storage,  'Governoment_Stability':Governoment_Stability,\n",
        "       'Internal_stuff_knowledge':Internal_stuff_knowledge , 'SC_performance':SC_performance, 'Customer_staisfication':Customer_staisfication ,'Finance_performance':Finance_performance\n",
        "       ,'Innovation_growth':Innovation_growth ,'Bussinece_management':Bussinece_management }\n",
        "\n",
        "# here we convert dictionary format to DataFrame format\n",
        "dataset =pd.DataFrame(dic , columns = ['G3_speed' , 'G4_speed' , 'G5_speed' , 'customer_need', 'customer_want', 'customer_demand',\n",
        "        'Natural_resource', 'Technology', 'Population','technology_change', 'Economic_health',\n",
        "       'Public_Debt', 'Political_Stability', 'Income_Inequality', 'education' , 'Migration',\n",
        "       'Overrunning_machines', 'Poor_electrical_connections', 'Improper_storage',  'Governoment_Stability',\n",
        "       'Internal_stuff_knowledge' , 'SC_performance', 'Customer_staisfication' ,'Finance_performance'\n",
        "       ,'Innovation_growth' ,'Bussinece_management' ])"
      ],
      "execution_count": null,
      "outputs": []
    },
    {
      "cell_type": "code",
      "metadata": {
        "id": "YXd6JkLhLxBw"
      },
      "source": [
        "#### Calulate the correlation between inputs and outputs ####\n",
        "corr = dataset.corr()\n",
        "\n",
        "# Generate a mask for the upper triangle\n",
        "mask = np.triu(np.ones_like(corr, dtype=bool))\n",
        "\n",
        "# Set up the matplotlib figure\n",
        "f, ax = plt.subplots(figsize=(11, 9))\n",
        "\n",
        "# Generate a custom diverging colormap\n",
        "cmap = sns.diverging_palette(230, 20, as_cmap=True)\n",
        "\n",
        "# Draw the heatmap with the mask and correct aspect ratio\n",
        "sns.heatmap(corr, mask=mask, cmap=cmap, vmax=.3, center=0,\n",
        "            square=True, linewidths=.5, cbar_kws={\"shrink\": .5})"
      ],
      "execution_count": null,
      "outputs": []
    },
    {
      "cell_type": "code",
      "metadata": {
        "id": "8FfC4DHXL14f"
      },
      "source": [
        "## seperating between inputs factors and output factor and betweem outputs factor with themself. \n",
        "# all input factor\n",
        "input_factors = dataset.drop(columns =['SC_performance', 'Customer_staisfication' ,'Finance_performance','Innovation_growth' ,'Bussinece_management'])\n",
        "\n",
        "# Just the supply chain performance alone saved in DataFrame format  \n",
        "SC_Output = dataset['SC_performance']\n",
        "# Just the Customer_staisfication performance alone saved  in DataFrame format  \n",
        "Customer_staisfication_Ouptut = dataset['Customer_staisfication']\n",
        "# Just the Finance_performane performance alone saved  in DataFrame format  \n",
        "Finance_performane_Output = dataset['Finance_performance']\n",
        "# Just the Innovation performance alone saved  in DataFrame format  \n",
        "Innovation_Ouptut = dataset['Innovation_growth']\n",
        "# Just theBussinece_management performance alone saved  in DataFrame format  \n",
        "Bussinece_management_Output =dataset['Bussinece_management']"
      ],
      "execution_count": null,
      "outputs": []
    },
    {
      "cell_type": "code",
      "metadata": {
        "id": "oNEZx_I0L7A5"
      },
      "source": [
        "# this function used to extract the most important attribites and arrange them based on thier imporatnce, the high importance mean this attribute highly related with the output an so on for \n",
        "# the rest of attribuits \n",
        "def feature_selection_using_Random_forest(x,y,number_of_features):\n",
        "  rf = RandomForestClassifier().fit(x,y)\n",
        "  feat_importance = pd.Series(rf.feature_importances_, index = x.columns).sort_values()\n",
        "  plt.rcParams['figure.figsize'] = (8.0, 8.0)\n",
        "  feat_importance.plot(kind = \"barh\")\n",
        "  plt.title(\"Feature importance using Random Forest Model\")\n",
        "  return  feat_importance.tail(number_of_features)"
      ],
      "execution_count": null,
      "outputs": []
    },
    {
      "cell_type": "code",
      "metadata": {
        "id": "qvEBpHYNL-ev"
      },
      "source": [
        "#@title Choose Output Type \n",
        "ouptut = \"SC_performance\" #@param [\"SC_performance\", \"Customer_staisfication\", \"Finance_performance\" , \"Innovation_growth\" ,\"Bussinece_management\"]\n",
        "if ouptut == 'SC_performance':\n",
        "  f = feature_selection_using_Random_forest(input_factors , SC_Output,10)\n",
        "elif ouptut == 'Customer_staisfication':\n",
        "  f = feature_selection_using_Random_forest(input_factors , Customer_staisfication_Ouptut,10)\n",
        "elif ouptut == 'Finance_performance':\n",
        "  f = feature_selection_using_Random_forest(input_factors , Finance_performane_Output,10)\n",
        "elif ouptut == 'Innovation_growth':\n",
        "  f = feature_selection_using_Random_forest(input_factors , Innovation_Ouptut,10)\n",
        "elif ouptut == 'Bussinece_management':\n",
        "  f = feature_selection_using_Random_forest(input_factors , Bussinece_management_Output,10)\n"
      ],
      "execution_count": null,
      "outputs": []
    },
    {
      "cell_type": "code",
      "metadata": {
        "id": "CykoOPpzMCpL"
      },
      "source": [
        "# The Function to train and evalute the results for Machine learning model\n",
        "'''\n",
        "the model trained on x_train and y_train, and the results are evaluated on x_test , y_test\n",
        "'''\n",
        "def classifiermodel(model_l,xl_train, xl_test,yl_train,yl_test):\n",
        "    model_l=model_l.fit(xl_train,yl_train) # Fitting train data for predection of late delivery\n",
        "    yl_pred=model_l.predict(xl_test)  \n",
        "    accuracy_l=accuracy_score(yl_pred, yl_test) #Accuracy for predection \n",
        "    recall_l=recall_score(yl_pred, yl_test,average='micro')# Recall score for predection \n",
        "    conf_l=confusion_matrix(yl_test, yl_pred)#confusion matrix \n",
        "    f1_l=f1_score(yl_test, yl_pred,average='micro')#predection of late delivery\n",
        "    print('Accuracy   status is:', (accuracy_l)*100,'%')\n",
        "    print('Recall score  status is:', (recall_l)*100,'%')\n",
        "    #print('Conf Matrix  status is: \\n',(conf_l))\n",
        "    print('F1 score   status is:', (f1_l)*100,'%')\n",
        "    return model\n"
      ],
      "execution_count": null,
      "outputs": []
    },
    {
      "cell_type": "code",
      "metadata": {
        "id": "OH7_TcmrMGlB"
      },
      "source": [
        "#### Spliting Dataset To training and testing ####\n",
        "\n",
        "x_sc_train, x_sc_test , y_sc_train, y_sc_test = train_test_split(input_factors , SC_Output , test_size = 0.2)\n",
        "x_cs_train, x_cs_test , y_cs_train, y_cs_test = train_test_split(input_factors , Customer_staisfication_Ouptut , test_size = 0.2)\n",
        "x_fp_train, x_fp_test , y_fp_train, y_fp_test = train_test_split(input_factors , Finance_performane_Output , test_size = 0.2)\n",
        "x_ig_train, x_ig_test , y_ig_train, y_ig_test = train_test_split(input_factors , Innovation_Ouptut , test_size = 0.2)\n",
        "x_bm_train, x_bm_test , y_bm_train, y_bm_test = train_test_split(input_factors , Bussinece_management_Output , test_size = 0.2)"
      ],
      "execution_count": null,
      "outputs": []
    },
    {
      "cell_type": "code",
      "metadata": {
        "id": "xJoOTn4OMKDA"
      },
      "source": [
        "#@title Choose Training Alogorithm \n",
        "Algorithm = \"LogisticRegression\" #@param [\"LogisticRegression\", \"SVM\" ,\"RandomForestClassifier\"]\n",
        "model = 'default'\n",
        "############################# Train Logisitc Regression ############################################3\n",
        "if Algorithm == 'LogisticRegression' and ouptut == 'SC_performance':\n",
        "  model = LogisticRegression(solver='lbfgs',random_state=0) #the classification model\n",
        "  model=classifiermodel(model,x_sc_train, x_sc_test , y_sc_train, y_sc_test)\n",
        "if Algorithm == 'LogisticRegression' and ouptut == 'Customer_staisfication':\n",
        "  model = LogisticRegression(solver='lbfgs',random_state=0) #the classification model\n",
        "  model=classifiermodel(model,x_cs_train, x_cs_test , y_cs_train, y_cs_test)\n",
        "if Algorithm == 'LogisticRegression' and ouptut == 'Finance_performance':\n",
        "  model = LogisticRegression(solver='lbfgs',random_state=0) #the classification model\n",
        "  model=classifiermodel(model,x_fp_train, x_fp_test , y_fp_train, y_fp_test)\n",
        "if Algorithm == 'LogisticRegression' and ouptut == 'Innovation_growth':\n",
        "  model = LogisticRegression(solver='lbfgs',random_state=0) #the classification model\n",
        "  model=classifiermodel(model,x_ig_train, x_ig_test , y_ig_train, y_ig_test)\n",
        "if Algorithm == 'LogisticRegression' and ouptut == 'Bussinece_management':\n",
        "  model = LogisticRegression(solver='lbfgs',random_state=0) #the classification model\n",
        "  model=classifiermodel(model,x_bm_train, x_bm_test , y_bm_train, y_bm_test)\n",
        "\n",
        "########################### Train SVM ############################################3\n",
        "if Algorithm == 'SVM' and ouptut == 'SC_performance':\n",
        "  model = svm.LinearSVC() #the classification model\n",
        "  model=classifiermodel(model,x_sc_train, x_sc_test , y_sc_train, y_sc_test)\n",
        "if Algorithm == 'SVM' and ouptut == 'Customer_staisfication':\n",
        "  model = svm.LinearSVC() #the classification model\n",
        "  model=classifiermodel(model,x_cs_train, x_cs_test , y_cs_train, y_cs_test)\n",
        "if Algorithm == 'SVM' and ouptut == 'Finance_performance':\n",
        "  model = svm.LinearSVC() #the classification model\n",
        "  model=classifiermodel(model,x_fp_train, x_fp_test , y_fp_train, y_fp_test)\n",
        "if Algorithm == 'SVM' and ouptut == 'Innovation_growth':\n",
        "  model = svm.LinearSVC() #the classification model\n",
        "  model=classifiermodel(model,x_ig_train, x_ig_test , y_ig_train, y_ig_test)\n",
        "if Algorithm == 'SVM' and ouptut == 'Bussinece_management':\n",
        "  model =svm.LinearSVC() #the classification model\n",
        "  model=classifiermodel(model,x_bm_train, x_bm_test , y_bm_train, y_bm_test)\n",
        "\n",
        "########################### Train Random Forest ############################################3\n",
        "if Algorithm == 'RandomForestClassifier' and ouptut == 'SC_performance':\n",
        "  model = RandomForestClassifier() #the classification model\n",
        "  model=classifiermodel(model,x_sc_train, x_sc_test , y_sc_train, y_sc_test)\n",
        "if Algorithm == 'RandomForestClassifier' and ouptut == 'Customer_staisfication':\n",
        "  model = RandomForestClassifier() #the classification model\n",
        "  model=classifiermodel(model,x_cs_train, x_cs_test , y_cs_train, y_cs_test)\n",
        "if Algorithm == 'RandomForestClassifier' and ouptut == 'Finance_performance':\n",
        "  model = RandomForestClassifier() #the classification model\n",
        "  model=classifiermodel(model,x_fp_train, x_fp_test , y_fp_train, y_fp_test)\n",
        "if Algorithm == 'RandomForestClassifier' and ouptut == 'Innovation_growth':\n",
        "  model = RandomForestClassifier() #the classification model\n",
        "  model=classifiermodel(model,x_ig_train, x_ig_test , y_ig_train, y_ig_test)\n",
        "if Algorithm == 'RandomForestClassifier' and ouptut == 'Bussinece_management':\n",
        "  model = RandomForestClassifier() #the classification model\n",
        "  model=classifiermodel(model,x_bm_train, x_bm_test , y_bm_train, y_bm_test)\n",
        "  \n",
        "  "
      ],
      "execution_count": null,
      "outputs": []
    },
    {
      "cell_type": "code",
      "metadata": {
        "id": "KwqjguiVMOVG"
      },
      "source": [
        "#@title Try to enter testing Values\n",
        "all_inputs = []\n",
        "G3_speed_t = 59 #@param {type:\"slider\", min:0, max:100, step:1}\n",
        "all_inputs.append(G3_speed_t)\n",
        "\n",
        "G4_speed_t = 5 #@param {type:\"slider\", min:0, max:100, step:1}\n",
        "all_inputs.append(G4_speed_t)\n",
        "\n",
        "G5_speed_t = 61 #@param {type:\"slider\", min:0, max:100, step:1}\n",
        "all_inputs.append(G5_speed_t)\n",
        "\n",
        "customer_need_t = 64 #@param {type:\"slider\", min:0, max:100, step:1}\n",
        "all_inputs.append(customer_need_t)\n",
        "\n",
        "customer_want_t = 55 #@param {type:\"slider\", min:0, max:100, step:1}\n",
        "all_inputs.append(customer_want_t)\n",
        "\n",
        "customer_demand_t = 72 #@param {type:\"slider\", min:0, max:100, step:1}\n",
        "all_inputs.append(customer_demand_t)\n",
        "\n",
        "Natural_resource_t = 75 #@param {type:\"slider\", min:0, max:100, step:1}\n",
        "all_inputs.append(Natural_resource_t)\n",
        "\n",
        "Technology_t = 1 #@param {type:\"slider\", min:0, max:100, step:1}\n",
        "all_inputs.append(Technology_t)\n",
        "\n",
        "Population_t = 14 #@param {type:\"slider\", min:0, max:100, step:1}\n",
        "all_inputs.append(Population_t)\n",
        "\n",
        "technology_change_t = 94 #@param {type:\"slider\", min:0, max:100, step:1}\n",
        "all_inputs.append(technology_change_t)\n",
        "\n",
        "Economic_health_t = 97 #@param {type:\"slider\", min:0, max:100, step:1}\n",
        "all_inputs.append(Economic_health_t)\n",
        "\n",
        "Public_Debt_t = 84 #@param {type:\"slider\", min:0, max:100, step:1}\n",
        "all_inputs.append(Public_Debt_t)\n",
        "\n",
        "Political_Stability_t = 96 #@param {type:\"slider\", min:0, max:100, step:1}\n",
        "all_inputs.append(Political_Stability_t)\n",
        "\n",
        "Income_Inequality_t = 19 #@param {type:\"slider\", min:0, max:100, step:1}\n",
        "all_inputs.append(Income_Inequality_t)\n",
        "\n",
        "education_t = 82 #@param {type:\"slider\", min:0, max:100, step:1}\n",
        "all_inputs.append(education_t)\n",
        "\n",
        "Migration_t = 12 #@param {type:\"slider\", min:0, max:100, step:1}\n",
        "all_inputs.append(Migration_t)\n",
        "\n",
        "Overrunning_machines_t = 75 #@param {type:\"slider\", min:0, max:100, step:1}\n",
        "all_inputs.append(Overrunning_machines_t)\n",
        "\n",
        "Poor_electrical_connections_t = 7 #@param {type:\"slider\", min:0, max:100, step:1}\n",
        "all_inputs.append(Poor_electrical_connections_t)\n",
        "\n",
        "Improper_storage_t = 7 #@param {type:\"slider\", min:0, max:100, step:1}\n",
        "all_inputs.append(Improper_storage_t)\n",
        "\n",
        "Governoment_Stability_t = 93 #@param {type:\"slider\", min:0, max:100, step:1}\n",
        "all_inputs.append(Governoment_Stability_t)\n",
        "\n",
        "Internal_stuff_knowledge_t = 97 #@param {type:\"slider\", min:0, max:100, step:1}\n",
        "all_inputs.append(Internal_stuff_knowledge_t)"
      ],
      "execution_count": null,
      "outputs": []
    },
    {
      "cell_type": "code",
      "metadata": {
        "id": "Iqp-TXTGMSNM"
      },
      "source": [
        "dic2 = {'G3_speed': G3_speed_t , 'G4_speed':G4_speed_t , 'G5_speed':G5_speed_t , 'customer_need':customer_need_t, 'customer_want':customer_want_t, 'customer_demand':customer_demand_t,\n",
        "        'Natural_resource':Natural_resource_t, 'Technology':Technology_t, 'Population':Population_t,'technology_change':technology_change_t, 'Economic_health':Economic_health_t,\n",
        "       'Public_Debt':Public_Debt_t, 'Political_Stability':Political_Stability_t, 'Income_Inequality':Income_Inequality_t, 'education':education_t , 'Migration':Migration_t,\n",
        "       'Overrunning_machines':Overrunning_machines_t, 'Poor_electrical_connections':Poor_electrical_connections_t, 'Improper_storage':Improper_storage_t,  'Governoment_Stability':Governoment_Stability_t,\n",
        "       'Internal_stuff_knowledge':Internal_stuff_knowledge_t } "
      ],
      "execution_count": null,
      "outputs": []
    },
    {
      "cell_type": "code",
      "metadata": {
        "id": "tMCIERGxMV5k"
      },
      "source": [
        "### Create dataframe format for test data \n",
        "test_data = pd.DataFrame(dic2 , columns =  ['G3_speed' , 'G4_speed' , 'G5_speed' , 'customer_need', 'customer_want', 'customer_demand',\n",
        "        'Natural_resource', 'Technology', 'Population','technology_change', 'Economic_health',\n",
        "       'Public_Debt', 'Political_Stability', 'Income_Inequality', 'education' , 'Migration',\n",
        "       'Overrunning_machines', 'Poor_electrical_connections', 'Improper_storage',  'Governoment_Stability',\n",
        "       'Internal_stuff_knowledge']\n",
        "       , index=[0])\n",
        "\n",
        "## Convert the data into array\n",
        "test = np.array(test_data)\n",
        "\n",
        "## predict the output for the machine learning models based on specific input\n",
        "model_prediction = model.predict(test)\n",
        "if model_prediction == 0:\n",
        "  print('low')\n",
        "elif model_prediction == 1:\n",
        "  print('medium')\n",
        "elif model_prediction == 2:\n",
        "  print('good')\n",
        "elif model_prediction == 3:\n",
        "  print('very good')\n",
        "elif model_prediction == 4:\n",
        "  print('excelence')"
      ],
      "execution_count": null,
      "outputs": []
    },
    {
      "cell_type": "code",
      "metadata": {
        "id": "nFnvhBBJMaNk"
      },
      "source": [
        ""
      ],
      "execution_count": null,
      "outputs": []
    }
  ]
}